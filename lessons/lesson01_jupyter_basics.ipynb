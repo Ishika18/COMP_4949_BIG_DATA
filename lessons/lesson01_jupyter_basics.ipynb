{
 "cells": [
  {
   "cell_type": "markdown",
   "metadata": {},
   "source": [
    "# Markdown titles are created by starting the line with a hash symbol.\n",
    "# another title\n",
    "\n",
    "The following title uses HTML which you can also include in your markdown.\n",
    "<h3>This is Another Title</h3>\n",
    "This image is loaded using HTML.<br />\n",
    "<!-- This image exists in the Jupyter notebook root folder.\n",
    "On my Windows machine this happens to be at c:/users/username/\n",
    "You can also store the image there if you upload it at the\n",
    "Jupyter Notebook tree listing. -->\n",
    "\n",
    "<img style=\"float: left;\" src=\"https://commons.bcit.ca/news/files/2020/05/Island-Princess_1200px-300x150.jpg\"  />"
   ]
  },
  {
   "cell_type": "code",
   "execution_count": null,
   "metadata": {
    "pycharm": {
     "name": "#%%\n"
    }
   },
   "outputs": [],
   "source": [
    "import pandas as pd\n",
    "from IPython.display import display_html\n",
    "\n",
    "def display_side_by_side(*args):\n",
    "    html_table= ''\n",
    "    for item in args:\n",
    "        html_table += item.to_html()\n",
    "    display_html(html_table.replace('table', 'table style=\"display:inline;\"'), raw=True)\n",
    "\n",
    "# Create and show budget dataframe.\n",
    "df = pd.DataFrame(columns=[\"Week\", \"Cost\", \"Revenue\"])\n",
    "df['Week']    = ['1','2','3','4','5']\n",
    "df['Cost']    = [8,10,12,14,15]\n",
    "df['Revenue'] = [6,12,14,16,18]\n",
    "\n",
    "display_side_by_side(df,df)"
   ]
  },
  {
   "cell_type": "code",
   "execution_count": null,
   "metadata": {
    "pycharm": {
     "name": "#%%\n"
    }
   },
   "outputs": [],
   "source": [
    "import matplotlib.pyplot as plt\n",
    "\n",
    "# show multiple graphs on one line\n",
    "plt.figure(figsize=(6, 1.3))\n",
    "plt.subplot(1, 2, 1) # 1 row, 2 columns, 1st cell\n",
    "plt.plot(df['Week'], df['Cost'], color='red')\n",
    "plt.ylim((6, 16))\n",
    "\n",
    "# second chart\n",
    "plt.subplot(1, 2, 2) # 1 ros, 2 columns, 2nd cell\n",
    "plt.plot(df['Week'], df['Revenue'], color='green')\n",
    "plt.ylim((6, 16))\n",
    "\n",
    "# show plots\n",
    "plt.show()"
   ]
  },
  {
   "cell_type": "code",
   "execution_count": null,
   "metadata": {
    "pycharm": {
     "name": "#%%\n"
    }
   },
   "outputs": [],
   "source": [
    "from IPython.display import display, HTML, Image\n",
    "\n",
    "display(HTML(\"<h4>This text and image are rendered using html embedded in Python code.</h4>\"))\n",
    "\n",
    "# This image is stored at the Jupyter notebook root folder.\n",
    "img=Image(url= \"https://commons.bcit.ca/news/files/2020/05/Island-Princess_1200px-300x150.jpg\")\n",
    "display(img)\n"
   ]
  },
  {
   "cell_type": "code",
   "execution_count": null,
   "metadata": {
    "pycharm": {
     "name": "#%%\n"
    }
   },
   "outputs": [],
   "source": [
    "from IPython.display import display\n",
    "from ipywidgets import widgets\n",
    "\n",
    "# Define and show text box\n",
    "firstName = widgets.Text(\n",
    "    value = \"\",\n",
    "    placeholder = \"Input first name\",\n",
    "    description = \"First Name: \",\n",
    "    disabled = False\n",
    ")\n",
    "\n",
    "lastName = widgets.Text(\n",
    "    value = \"\",\n",
    "    placeholder = \"Input last name\",\n",
    "    description = \"Last Name: \",\n",
    "    disabled = False\n",
    ")\n",
    "\n",
    "display(firstName)\n",
    "display(lastName)\n",
    "\n",
    "button = widgets.Button(description=\"Submit full name\")\n",
    "\n",
    "display(button)\n",
    "\n",
    "def on_button_clicked(e):\n",
    "    clear_output()\n",
    "    print(firstName.value + lastName.value)\n",
    "\n",
    "button.on_click(on_button_clicked)"
   ]
  },
  {
   "cell_type": "code",
   "execution_count": null,
   "metadata": {
    "pycharm": {
     "name": "#%%\n"
    }
   },
   "outputs": [],
   "source": [
    "from IPython.display import display, clear_output\n",
    "from ipywidgets import widgets\n",
    "import pandas_datareader.data as pdr\n",
    "import matplotlib.pyplot as plt\n",
    "from datetime import datetime\n",
    "\n",
    "txtInput = widgets.Text(\n",
    "    value=\"\",\n",
    "    placeholder=\"Stock name\",\n",
    "    description=\"Stock\",\n",
    "    disabled=False\n",
    ")\n",
    "\n",
    "display(txtInput, end=\"\")\n",
    "\n",
    "button = widgets.Button(description=\"Click Me!\")\n",
    "display(button)\n",
    "\n",
    "def plot_time_series(stock_name):\n",
    "    print('The stock is: ' + stock_name)\n",
    "    end = datetime.now()\n",
    "\n",
    "    # start date set to one year back\n",
    "    start = datetime(end.year - 1, end.month, end.day)\n",
    "    stock = pdr.DataReader(stock_name, \"yahoo\", start, end)\n",
    "\n",
    "    stock['Close'].plot()\n",
    "    plt.show()\n",
    "\n",
    "def on_button_clicked(e):\n",
    "    clear_output()\n",
    "    plot_time_series(txtInput.value)\n",
    "\n",
    "button.on_click(on_button_clicked)"
   ]
  },
  {
   "cell_type": "code",
   "execution_count": null,
   "metadata": {
    "pycharm": {
     "name": "#%%\n"
    }
   },
   "outputs": [],
   "source": [
    "from ipywidgets import widgets\n",
    "\n",
    "dropdown_fruits = widgets.Dropdown(options = [\n",
    "    \"\", \"apples\", \"peaches\", \"pears\", \"plums\"\n",
    "])\n",
    "\n",
    "display(dropdown_fruits)\n",
    "\n",
    "def dropdown_fruits_eventhandler(dd):\n",
    "    clear_output()\n",
    "    print(dd['new'])\n",
    "\n",
    "dropdown_fruits.observe(dropdown_fruits_eventhandler, \"value\")"
   ]
  },
  {
   "cell_type": "code",
   "execution_count": 10,
   "metadata": {
    "pycharm": {
     "name": "#%%\n"
    }
   },
   "outputs": [
    {
     "name": "stdout",
     "output_type": "stream",
     "text": [
      "apples sales report:\n",
      "         Region      Revenue\n",
      "0       Alberta  50851.72610\n",
      "1            BC  59956.09121\n",
      "2      Manitoba  56282.63585\n",
      "3       Ontario  77117.99945\n",
      "4        Quebec  61615.00027\n",
      "5  Saskatchewan  65462.27317\n"
     ]
    }
   ],
   "source": [
    "from IPython.display import HTML, Javascript, display, clear_output\n",
    "from ipywidgets import widgets\n",
    "from global_constants import PATH\n",
    "import pandas as pd\n",
    "import numpy as np\n",
    "\n",
    "HTML('''<script>\n",
    "code_show=true;\n",
    "function code_toggle() {\n",
    " if (code_show){\n",
    " $('div.input').hide();\n",
    " } else {\n",
    "\n",
    "$('div.input').show();\n",
    " }\n",
    " code_show = !code_show\n",
    "}\n",
    "$( document ).ready(code_toggle);\n",
    "</script>\n",
    "<form action=\"javascript:code_toggle()\"><input type=\"submit\" value=\"Show / Hide Code\"></form>''')\n",
    "\n",
    "\n",
    "def run_all(ev):\n",
    "    display(Javascript('IPython.notebook.execute_cells_below()'))\n",
    "\n",
    "button = widgets.Button(description=\"Run Report\")\n",
    "button.on_click(run_all)\n",
    "display(button)\n",
    "\n",
    "FILE = \"/fruit.csv\"\n",
    "df = pd.read_csv(PATH + FILE)\n",
    "dropdown_year = widgets.Dropdown(options = ['','apples', 'peaches', 'pears', 'plums'])\n",
    "display(dropdown_year)\n",
    "pd.set_option('display.max_rows', df.shape[0]+1)\n",
    "\n",
    "def dropdown_year_eventhandler(dd):\n",
    "    # Clear all outputs in cell.\n",
    "    for i in range(1):\n",
    "        clear_output(wait=True)\n",
    "\n",
    "    # Create sub-query based on dropdown selection.\n",
    "    selection = dd['new']\n",
    "    print(selection + \" sales report:\")\n",
    "    result_df    = df[df['Product']==selection]\n",
    "\n",
    "    # Suppress copy warning.\n",
    "    pd.options.mode.chained_assignment = None\n",
    "    result_df['Revenue']= result_df['Price']*result_df['Quantity']\n",
    "    result_df           = result_df.groupby(['Region'])['Revenue'].sum().reset_index()\n",
    "    print(result_df)\n",
    "\n",
    "# Call function to handle dropdown selection.\n",
    "dropdown_year.observe(dropdown_year_eventhandler, 'value')\n"
   ]
  },
  {
   "cell_type": "code",
   "execution_count": null,
   "metadata": {
    "pycharm": {
     "name": "#%%\n"
    }
   },
   "outputs": [],
   "source": []
  }
 ],
 "metadata": {
  "kernelspec": {
   "display_name": "Python 3 (ipykernel)",
   "language": "python",
   "name": "python3"
  },
  "language_info": {
   "codemirror_mode": {
    "name": "ipython",
    "version": 3
   },
   "file_extension": ".py",
   "mimetype": "text/x-python",
   "name": "python",
   "nbconvert_exporter": "python",
   "pygments_lexer": "ipython3",
   "version": "3.10.0"
  }
 },
 "nbformat": 4,
 "nbformat_minor": 1
}