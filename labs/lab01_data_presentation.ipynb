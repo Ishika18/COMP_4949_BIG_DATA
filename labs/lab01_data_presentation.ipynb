{
 "cells": [
  {
   "cell_type": "code",
   "execution_count": 3,
   "metadata": {
    "collapsed": true
   },
   "outputs": [
    {
     "name": "stdout",
     "output_type": "stream",
     "text": [
      "                      0          1          2\n",
      "experience     7.030801  22.965092  15.934292\n",
      "turnover       1.000000   1.000000   1.000000\n",
      "gender         1.000000   1.000000   0.000000\n",
      "age           35.000000  33.000000  35.000000\n",
      "industry       2.000000   2.000000   8.000000\n",
      "profession     6.000000   6.000000   6.000000\n",
      "traffic        4.000000   2.000000   4.000000\n",
      "coach          1.000000   1.000000   1.000000\n",
      "head_gender    0.000000   1.000000   1.000000\n",
      "greywage       1.000000   1.000000   1.000000\n",
      "way            0.000000   0.000000   0.000000\n",
      "extraversion   6.200000   6.200000   6.200000\n",
      "independ       4.100000   4.100000   6.200000\n",
      "selfcontrol    5.700000   5.700000   2.600000\n",
      "anxiety        7.100000   7.100000   4.800000\n",
      "novator        8.300000   8.300000   8.300000\n"
     ]
    }
   ],
   "source": [
    "import plotly.express as px\n",
    "from global_constants import PATH\n",
    "import pandas as pd\n",
    "\n",
    "\n",
    "# load the data\n",
    "CSV_FILE = f'{PATH}employee_turnover.csv'\n",
    "df = pd.read_csv(CSV_FILE)\n",
    "pd.set_option('display.max_columns', None)\n",
    "pd.set_option('display.width', 1000)\n",
    "\n",
    "# Show transposed data\n",
    "print(df.head(3).T)"
   ]
  },
  {
   "cell_type": "code",
   "execution_count": 6,
   "metadata": {
    "pycharm": {
     "name": "#%%\n"
    }
   },
   "outputs": [
    {
     "data": {
      "text/html": [
       "<table border=\"1\" class=\"dataframe\">\n",
       "  <thead>\n",
       "    <tr style=\"text-align: right;\">\n",
       "      <th></th>\n",
       "      <th>someText</th>\n",
       "    </tr>\n",
       "  </thead>\n",
       "  <tbody>\n",
       "    <tr>\n",
       "      <th>0</th>\n",
       "      <td>This is Shagun's cool horizontal scroller and it will let you scroll for miles and miles and miles and miles and miles and then you can see everything with perfect clarity.</td>\n",
       "    </tr>\n",
       "  </tbody>\n",
       "</table>"
      ],
      "text/plain": [
       "<IPython.core.display.HTML object>"
      ]
     },
     "metadata": {},
     "output_type": "display_data"
    }
   ],
   "source": [
    "from IPython.core.display import display, HTML\n",
    "import pandas as pd\n",
    "\n",
    "def view(_df):\n",
    "    with pd.option_context('display.max_rows', None, 'display.max_columns', None, 'display.width', None):\n",
    "        display(HTML(_df.to_html()))\n",
    "\n",
    "\n",
    "df = pd.DataFrame(data={'someText':[\"This is Shagun's cool horizontal scroller and it will let you scroll for miles and miles and miles and miles and miles and then you can see everything with perfect clarity.\"]})\n",
    "view(df)"
   ]
  },
  {
   "cell_type": "markdown",
   "metadata": {},
   "source": []
  },
  {
   "cell_type": "code",
   "execution_count": null,
   "outputs": [],
   "source": [],
   "metadata": {
    "collapsed": false,
    "pycharm": {
     "name": "#%%\n"
    }
   }
  },
  {
   "cell_type": "code",
   "execution_count": null,
   "metadata": {
    "pycharm": {
     "name": "#%%\n"
    }
   },
   "outputs": [],
   "source": []
  }
 ],
 "metadata": {
  "kernelspec": {
   "display_name": "Python 3 (ipykernel)",
   "language": "python",
   "name": "python3"
  },
  "language_info": {
   "codemirror_mode": {
    "name": "ipython",
    "version": 3
   },
   "file_extension": ".py",
   "mimetype": "text/x-python",
   "name": "python",
   "nbconvert_exporter": "python",
   "pygments_lexer": "ipython3",
   "version": "3.10.0"
  }
 },
 "nbformat": 4,
 "nbformat_minor": 1
}